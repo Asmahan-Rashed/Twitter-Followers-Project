{
 "cells": [
  {
   "cell_type": "markdown",
   "id": "37456d33",
   "metadata": {},
   "source": [
    " # Twitter Followers Project\n",
    " \n",
    " In That Project we have 2 tasks to be completed:\n",
    " \n",
    " 1- Ranking People according to Their number of followers<br>\n",
    " 2- Given an id calculate its closest  group of twitter users to recommend as a new friend. Closest means they have at least a threshold number of  twitter accounts in common. One of your responsibilities in thisbonus task is to determine this threshold."
   ]
  },
  {
   "cell_type": "markdown",
   "id": "4785b2d3",
   "metadata": {},
   "source": [
    "<h3>Stage 1: Exploring and processing the data </h3>\n",
    "Number of accounts = 81305 = Number of Nodes in the graph\n",
    "\n",
    "Number of unreapeated rows = 1768149 = Number of edges"
   ]
  },
  {
   "cell_type": "code",
   "execution_count": 10,
   "id": "3339ccd9",
   "metadata": {},
   "outputs": [
    {
     "name": "stdout",
     "output_type": "stream",
     "text": [
      "115485051\n"
     ]
    }
   ],
   "source": [
    "import pandas as pd\n",
    "import math\n",
    "#put data in dataframe\n",
    "#edges\n",
    "dff=pd.read_csv('twitter.csv')\n",
    "#FINDING MAX AND MIN\n",
    "dff.columns=[\"follwer\",\"influncer\"]\n",
    "#maxi=max(df[\"follwer\"].max(),df[\"influncer\"].max())\n",
    "#mini=min(df[\"follwer\"].min(),df[\"influncer\"].min())\n",
    "#nodes\"\n",
    "\"\"\"follwers=set()\n",
    "influncers=set()\n",
    "#o(E) for both loops\n",
    "for i in dff[\"follwer\"]:\n",
    "    #The runtime complexity of the set. \n",
    "    #add() function is O(1) because Python's set data structure is implemented as a hash table and you can expect lookup, insert, and delete operations to have constant runtime complexity\n",
    "    follwers.add(i)\n",
    "for i in dff[\"influncer\"]:\n",
    "    influncers.add(i)\n",
    "#Checking out how many accounts do we have \n",
    "print(len(follwers),len(influncers))\"\"\"\n",
    "#print(maxi,mini)\n",
    "#no.of rows\n",
    "#df.shape is a tuple = (no.of rows,no.of col)\n",
    "#rows=dff.shape[0]\n",
    "#drop the repeated rows\n",
    "#o(E) \n",
    "dff.drop_duplicates(inplace=True)\n",
    "#cheacking out the no.of reapeated rows\n",
    "#print (rows-dff.shape[0]) #0\n",
    "#print(dff.shape[0])\n",
    "#we want to know if we're right\n",
    "#But Are we R\n",
    "#how many times was 115485051 repeated\n",
    "#print(len(dff[dff.influncer == 115485051]))\n",
    "#print(len(dff[dff.influncer == 12]))\n",
    "#df.drop(columns=['follwer'])\n",
    "#df['40981798'].value_counts()\n",
    "#print(dff['influncer'].value_counts().idxmax())\n"
   ]
  },
  {
   "cell_type": "markdown",
   "id": "84716891",
   "metadata": {},
   "source": [
    "# Bulding The Graph\n",
    "\n",
    "the Graph will be built as a dictionary, The key is the id of the person, yhe value will be an object that contain The no.of people that follow that person, a list of the IDs of the followers, a state."
   ]
  },
  {
   "cell_type": "code",
   "execution_count": 11,
   "id": "ad3bcf7f",
   "metadata": {},
   "outputs": [],
   "source": [
    "class wrapper():\n",
    "    def __init__(self,no_of_follwers,follwers,state):\n",
    "        self.nof=no_of_follwers\n",
    "        self.follwers=follwers#list of follwers\n",
    "        self.state=state\n",
    "#O(E)\n",
    "d=dict()#adj. list\n",
    "for f,i in zip(dff[\"follwer\"],dff[\"influncer\"]):\n",
    "    #check = o(1) as d is a dictionary not a list\n",
    "    if i in d:\n",
    "        d[i].follwers.append(f)\n",
    "        d[i].nof+=1 #no_of_follwers\n",
    "    else:\n",
    "        #[i]: start of the follwers list\n",
    "        #add influncer to dict\n",
    "        #input 1,2 2=i, 1=f\n",
    "        d[i]=wrapper(1,[f],-math.inf)"
   ]
  },
  {
   "cell_type": "markdown",
   "id": "4bd76ee0",
   "metadata": {},
   "source": [
    "# Ranking People according to Their number of followers"
   ]
  },
  {
   "cell_type": "code",
   "execution_count": 13,
   "id": "5fc1bb39",
   "metadata": {},
   "outputs": [
    {
     "name": "stdout",
     "output_type": "stream",
     "text": [
      "rank: 1\n",
      "115485051 3383\n"
     ]
    }
   ],
   "source": [
    "#O(v log v)\n",
    "sd=sorted(d.items(),key=lambda pair:-pair[1].nof)\n",
    "i=input(\"rank: \")\n",
    "print(sd[int(i)-1][0],sd[int(i)-1][1].nof)"
   ]
  },
  {
   "cell_type": "markdown",
   "id": "0a54b782",
   "metadata": {},
   "source": [
    "# Finding  the closest  group "
   ]
  },
  {
   "cell_type": "markdown",
   "id": "c08d4bea",
   "metadata": {},
   "source": [
    "we decided to use the BFS algorithm but instead of searching through the whole \n",
    "levels we search only 2 levels after our source, so we only fill the queue once with the list of followers of the id that needs a new followings list recommendation, worst case happens when the whole graph is 2 levels and its complexity = O(E+v)<br>\n",
    "Note: The State could have 3 values: <br>\n",
    "1 -inf: which mean we haven't seen that id before<br>\n",
    "2 -1: this mean that id is already a follower and can't make it to the new recommendation list<br>\n",
    "3  a +ve number: that mean that we visited this id before, and that id doesn't follow us<br>"
   ]
  },
  {
   "cell_type": "code",
   "execution_count": 16,
   "id": "48afe767",
   "metadata": {},
   "outputs": [
    {
     "name": "stdout",
     "output_type": "stream",
     "text": [
      "Enter an ID: 12\n",
      "[(20, 95), (9641832, 55), (389153, 48), (20536157, 43), (3839, 41), (3471, 40), (8285392, 40), (8453452, 38), (202003, 36), (13919072, 35)]\n"
     ]
    }
   ],
   "source": [
    "#s = source = person that we need get thier \"people you may wanna follow\" list\n",
    "#O(v+E)\n",
    "def solve(s):\n",
    "    #print(\"hi\")\n",
    "    #o(1)\n",
    "    #d= dictionary that contain infos about my influncer\n",
    "    #q= my follwers\n",
    "    q=d[s].follwers#that's not a new list, it's just a ref for the list\n",
    "    #set every node's state tp -inf\n",
    "    #O(v)\n",
    "    for k in d:\n",
    "        d[k].state=-math.inf\n",
    "    #set the childern nodes's states to -1\n",
    "    #O(v)\n",
    "    for n in q:\n",
    "        # that means s follow that person \n",
    "        d[n].state=-1\n",
    "    #we will add the chldren to that dict and give it a value of -1\n",
    "    sus={}\n",
    "    sus[s]=-1\n",
    "    #just in case one of our childern follw anther one\n",
    "    #o(v)\n",
    "    for follwer in q:\n",
    "        sus[follwer]=-1\n",
    "    #O(v)*O(E/v)=O(E)\n",
    "    for n in q:\n",
    "        #gc = grandchild\n",
    "        #O(E/v)\n",
    "        for gc in d[n].follwers:\n",
    "            #that should be o(1)\n",
    "            if gc in sus:\n",
    "                #if sus[gc] is someone that follow s it will be -1\n",
    "                #in that case don't do anything\n",
    "                if sus[gc]!=-1:\n",
    "                    sus[gc]+=1\n",
    "            else:\n",
    "                sus[gc]=1\n",
    "    follow_those_people=[]\n",
    "    metric = int(.025*len(q))#2.5% of the no.of my follwers\n",
    "    #O(v)\n",
    "    for k in sus:\n",
    "        if sus[k]>=metric:\n",
    "            follow_those_people.append((k,sus[k]))\n",
    "    #ssus=sorted(sus.items(),key=lambda pair:-pair[1])\n",
    "    follow_those_people = sorted(follow_those_people,key=lambda pair:-pair[1])\n",
    "    return follow_those_people[:10]\n",
    "\n",
    "i=input(\"Enter an ID: \")\n",
    "print(solve(int(i)))"
   ]
  },
  {
   "cell_type": "markdown",
   "id": "cd8e37e4",
   "metadata": {},
   "source": [
    "# A better Way To find the closest  group\n",
    "\n",
    "so insted of looking at the folllwers of our follwers we look at the friends of our friends, where friend is the person that I follow and follow me back"
   ]
  },
  {
   "cell_type": "markdown",
   "id": "50353ee6",
   "metadata": {},
   "source": [
    "<h3> The New Graph</h3>\n",
    "This time insted of a followers list our value is a list of our id's friend and a state  "
   ]
  },
  {
   "cell_type": "code",
   "execution_count": 19,
   "id": "0f8ca51c",
   "metadata": {},
   "outputs": [
    {
     "name": "stdout",
     "output_type": "stream",
     "text": [
      "115485051 107\n"
     ]
    }
   ],
   "source": [
    "class nwrapper():\n",
    "    def __init__(self,no_of_follwers,friends,state):\n",
    "        self.friends=friends#list of friends\n",
    "        self.state=state\n",
    "d=dict()#adj. list\n",
    "dd=dict()#finding the friends\n",
    "for f,i in zip(dff[\"follwer\"],dff[\"influncer\"]):\n",
    "    #check = o(1) as d is a dictionary not a list\n",
    "    #check if f already was following if it wasn't add it to dd\n",
    "    if (f,i) in dd:\n",
    "        dd[(f,i)]= (i,f)\n",
    "    else:\n",
    "        dd[(i,f)]=0    \n",
    "    #[i]: start of the follwers list\n",
    "    #add influncer to dict\n",
    "    #input 1,2 2=i, 1=f\n",
    "    d[i]=nwrapper(1,[],-math.inf)\n",
    "#print(dd)\n",
    "for k in dd:\n",
    "    if dd[k]!=0:\n",
    "        d[dd[k][0]].friends.append(dd[k][1])\n",
    "        d[dd[k][1]].friends.append(dd[k][0])\n",
    "        \n",
    "#just a checkup\n",
    "#rint(115485051,len(d[12].friends))"
   ]
  },
  {
   "cell_type": "markdown",
   "id": "f0a41ac1",
   "metadata": {},
   "source": [
    "<h3> The newrapperw BFS</h3> "
   ]
  },
  {
   "cell_type": "code",
   "execution_count": 20,
   "id": "169ce760",
   "metadata": {},
   "outputs": [
    {
     "name": "stdout",
     "output_type": "stream",
     "text": [
      "Enter an ID: 12\n",
      "[(20, 58), (586, 33), (3840, 31), (972651, 30), (11435642, 23), (817288, 21), (5702, 21), (3829151, 20), (858051, 18), (819999, 18)]\n"
     ]
    }
   ],
   "source": [
    "#O(v+E)\n",
    "def solve(s):\n",
    "    #print(\"hi\")\n",
    "    #o(1)\n",
    "    #d= dictionary that contain infos about my influncer\n",
    "    #q= my follwers\n",
    "    q=d[s].friends#that's not a new list, it's just a ref for the list\n",
    "    #set every node's state tp -inf\n",
    "    #O(v)\n",
    "    for k in d:\n",
    "        d[k].state=-math.inf\n",
    "    #set the childern nodes's states to -1\n",
    "    #O(v)\n",
    "    for n in q:\n",
    "        # that means s follow that person \n",
    "        d[n].state=-1\n",
    "    #we will add the chldren to that dict and give it a value of -1\n",
    "    sus={}\n",
    "    sus[s]=-1\n",
    "    #just in case one of our childern follw anther one\n",
    "    #o(v)\n",
    "    for friend in q:\n",
    "        sus[friend]=-1\n",
    "    #O(v)*O(E/v)=O(E)\n",
    "    for n in q:\n",
    "        #gc = grandchild\n",
    "        #O(E/v)\n",
    "        for gc in d[n].friends:\n",
    "            #that should be o(1)\n",
    "            if gc in sus:\n",
    "                #if sus[gc] is someone that follow s it will be -1\n",
    "                #in that case don't do anything\n",
    "                if sus[gc]!=-1:\n",
    "                    sus[gc]+=1\n",
    "            else:\n",
    "                sus[gc]=1\n",
    "    follow_those_people=[]\n",
    "    metric = int(.025*len(q))#2.5% of the no.of my follwers\n",
    "    #O(v)\n",
    "    for k in sus:\n",
    "        if sus[k]>=metric:\n",
    "            follow_those_people.append((k,sus[k]))\n",
    "    #ssus=sorted(sus.items(),key=lambda pair:-pair[1])\n",
    "    follow_those_people = sorted(follow_those_people,key=lambda pair:-pair[1])\n",
    "    return follow_those_people[:10]\n",
    "i=input(\"Enter an ID: \")\n",
    "print(solve(int(i)))"
   ]
  }
 ],
 "metadata": {
  "kernelspec": {
   "display_name": "Python 3 (ipykernel)",
   "language": "python",
   "name": "python3"
  },
  "language_info": {
   "codemirror_mode": {
    "name": "ipython",
    "version": 3
   },
   "file_extension": ".py",
   "mimetype": "text/x-python",
   "name": "python",
   "nbconvert_exporter": "python",
   "pygments_lexer": "ipython3",
   "version": "3.8.10"
  }
 },
 "nbformat": 4,
 "nbformat_minor": 5
}
